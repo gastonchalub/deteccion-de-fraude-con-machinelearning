{
  "nbformat": 4,
  "nbformat_minor": 0,
  "metadata": {
    "colab": {
      "provenance": []
    },
    "kernelspec": {
      "name": "python3",
      "display_name": "Python 3"
    },
    "language_info": {
      "name": "python"
    }
  },
  "cells": [
    {
      "cell_type": "markdown",
      "source": [
        "# ***Unzip and import data***"
      ],
      "metadata": {
        "id": "I2rqXaFoLTIm"
      }
    },
    {
      "cell_type": "code",
      "execution_count": 32,
      "metadata": {
        "colab": {
          "base_uri": "https://localhost:8080/"
        },
        "id": "XcyVk8DgDBYY",
        "outputId": "41f5bebf-4d7f-4fd5-cb02-dc0b2cde83e7"
      },
      "outputs": [
        {
          "output_type": "stream",
          "name": "stdout",
          "text": [
            "Dataset URL: https://www.kaggle.com/datasets/kartik2112/fraud-detection\n",
            "License(s): CC0-1.0\n",
            "fraud-detection.zip: Skipping, found more recently modified local copy (use --force to force download)\n"
          ]
        }
      ],
      "source": [
        "!kaggle datasets download -d kartik2112/fraud-detection\n"
      ]
    },
    {
      "cell_type": "code",
      "source": [
        "\n",
        "\n",
        "import pandas as pd\n",
        "import numpy as np\n",
        "import zipfile\n",
        "zip_path = '/content/fraud-detection.zip'"
      ],
      "metadata": {
        "id": "iTcW6dV7DDL6"
      },
      "execution_count": 33,
      "outputs": []
    },
    {
      "cell_type": "code",
      "source": [
        "# Descomprimir el archivo zip\n",
        "with zipfile.ZipFile(zip_path, 'r') as zip_ref:\n",
        "    zip_ref.extractall('/content')\n",
        "    #cargar archivo\n",
        "train_csv = pd.read_csv('/content/fraudTrain.csv')\n",
        "test_csv = pd.read_csv('/content/fraudTest.csv')"
      ],
      "metadata": {
        "id": "BBywjBJaDJOy"
      },
      "execution_count": 34,
      "outputs": []
    },
    {
      "cell_type": "code",
      "source": [
        "df = pd.concat([train_csv, test_csv])\n",
        "df.shape[0]"
      ],
      "metadata": {
        "id": "XBO51TSnEcZD",
        "colab": {
          "base_uri": "https://localhost:8080/"
        },
        "outputId": "7950ae57-4e6a-4218-a4e7-247c73440f45"
      },
      "execution_count": 35,
      "outputs": [
        {
          "output_type": "execute_result",
          "data": {
            "text/plain": [
              "1852394"
            ]
          },
          "metadata": {},
          "execution_count": 35
        }
      ]
    },
    {
      "cell_type": "code",
      "source": [
        "df.info()"
      ],
      "metadata": {
        "id": "uvDKGaIhibz6",
        "colab": {
          "base_uri": "https://localhost:8080/"
        },
        "outputId": "be4ef92a-e8b7-4178-c6de-50b0756e07a8"
      },
      "execution_count": 36,
      "outputs": [
        {
          "output_type": "stream",
          "name": "stdout",
          "text": [
            "<class 'pandas.core.frame.DataFrame'>\n",
            "Int64Index: 1852394 entries, 0 to 555718\n",
            "Data columns (total 23 columns):\n",
            " #   Column                 Dtype  \n",
            "---  ------                 -----  \n",
            " 0   Unnamed: 0             int64  \n",
            " 1   trans_date_trans_time  object \n",
            " 2   cc_num                 int64  \n",
            " 3   merchant               object \n",
            " 4   category               object \n",
            " 5   amt                    float64\n",
            " 6   first                  object \n",
            " 7   last                   object \n",
            " 8   gender                 object \n",
            " 9   street                 object \n",
            " 10  city                   object \n",
            " 11  state                  object \n",
            " 12  zip                    int64  \n",
            " 13  lat                    float64\n",
            " 14  long                   float64\n",
            " 15  city_pop               int64  \n",
            " 16  job                    object \n",
            " 17  dob                    object \n",
            " 18  trans_num              object \n",
            " 19  unix_time              int64  \n",
            " 20  merch_lat              float64\n",
            " 21  merch_long             float64\n",
            " 22  is_fraud               int64  \n",
            "dtypes: float64(5), int64(6), object(12)\n",
            "memory usage: 339.2+ MB\n"
          ]
        }
      ]
    },
    {
      "cell_type": "markdown",
      "source": [
        "# ***Exploratory analysis and data preprocessing***"
      ],
      "metadata": {
        "id": "sApZkyMRLpAq"
      }
    },
    {
      "cell_type": "code",
      "source": [
        "#null values\n",
        "df.isnull().sum()"
      ],
      "metadata": {
        "id": "wkjpe45WMRTF",
        "colab": {
          "base_uri": "https://localhost:8080/"
        },
        "outputId": "b22f41c6-993e-43ff-aa7d-0d197b8175df"
      },
      "execution_count": 37,
      "outputs": [
        {
          "output_type": "execute_result",
          "data": {
            "text/plain": [
              "Unnamed: 0               0\n",
              "trans_date_trans_time    0\n",
              "cc_num                   0\n",
              "merchant                 0\n",
              "category                 0\n",
              "amt                      0\n",
              "first                    0\n",
              "last                     0\n",
              "gender                   0\n",
              "street                   0\n",
              "city                     0\n",
              "state                    0\n",
              "zip                      0\n",
              "lat                      0\n",
              "long                     0\n",
              "city_pop                 0\n",
              "job                      0\n",
              "dob                      0\n",
              "trans_num                0\n",
              "unix_time                0\n",
              "merch_lat                0\n",
              "merch_long               0\n",
              "is_fraud                 0\n",
              "dtype: int64"
            ]
          },
          "metadata": {},
          "execution_count": 37
        }
      ]
    },
    {
      "cell_type": "code",
      "source": [
        "#statistics\n",
        "df.describe()"
      ],
      "metadata": {
        "id": "J7amm79OMxi6",
        "colab": {
          "base_uri": "https://localhost:8080/",
          "height": 0
        },
        "outputId": "bd03b83b-2584-4795-b728-5443b149d5d5"
      },
      "execution_count": 38,
      "outputs": [
        {
          "output_type": "execute_result",
          "data": {
            "text/plain": [
              "         Unnamed: 0        cc_num           amt           zip           lat  \\\n",
              "count  1.852394e+06  1.852394e+06  1.852394e+06  1.852394e+06  1.852394e+06   \n",
              "mean   5.371934e+05  4.173860e+17  7.006357e+01  4.881326e+04  3.853931e+01   \n",
              "std    3.669110e+05  1.309115e+18  1.592540e+02  2.688185e+04  5.071470e+00   \n",
              "min    0.000000e+00  6.041621e+10  1.000000e+00  1.257000e+03  2.002710e+01   \n",
              "25%    2.315490e+05  1.800429e+14  9.640000e+00  2.623700e+04  3.466890e+01   \n",
              "50%    4.630980e+05  3.521417e+15  4.745000e+01  4.817400e+04  3.935430e+01   \n",
              "75%    8.335758e+05  4.642255e+15  8.310000e+01  7.204200e+04  4.194040e+01   \n",
              "max    1.296674e+06  4.992346e+18  2.894890e+04  9.992100e+04  6.669330e+01   \n",
              "\n",
              "               long      city_pop     unix_time     merch_lat    merch_long  \\\n",
              "count  1.852394e+06  1.852394e+06  1.852394e+06  1.852394e+06  1.852394e+06   \n",
              "mean  -9.022783e+01  8.864367e+04  1.358674e+09  3.853898e+01 -9.022794e+01   \n",
              "std    1.374789e+01  3.014876e+05  1.819508e+07  5.105604e+00  1.375969e+01   \n",
              "min   -1.656723e+02  2.300000e+01  1.325376e+09  1.902742e+01 -1.666716e+02   \n",
              "25%   -9.679800e+01  7.410000e+02  1.343017e+09  3.474012e+01 -9.689944e+01   \n",
              "50%   -8.747690e+01  2.443000e+03  1.357089e+09  3.936890e+01 -8.744069e+01   \n",
              "75%   -8.015800e+01  2.032800e+04  1.374581e+09  4.195626e+01 -8.024511e+01   \n",
              "max   -6.795030e+01  2.906700e+06  1.388534e+09  6.751027e+01 -6.695090e+01   \n",
              "\n",
              "           is_fraud  \n",
              "count  1.852394e+06  \n",
              "mean   5.210015e-03  \n",
              "std    7.199217e-02  \n",
              "min    0.000000e+00  \n",
              "25%    0.000000e+00  \n",
              "50%    0.000000e+00  \n",
              "75%    0.000000e+00  \n",
              "max    1.000000e+00  "
            ],
            "text/html": [
              "\n",
              "  <div id=\"df-0a2464b0-ff14-48b4-bf2e-90185c244032\" class=\"colab-df-container\">\n",
              "    <div>\n",
              "<style scoped>\n",
              "    .dataframe tbody tr th:only-of-type {\n",
              "        vertical-align: middle;\n",
              "    }\n",
              "\n",
              "    .dataframe tbody tr th {\n",
              "        vertical-align: top;\n",
              "    }\n",
              "\n",
              "    .dataframe thead th {\n",
              "        text-align: right;\n",
              "    }\n",
              "</style>\n",
              "<table border=\"1\" class=\"dataframe\">\n",
              "  <thead>\n",
              "    <tr style=\"text-align: right;\">\n",
              "      <th></th>\n",
              "      <th>Unnamed: 0</th>\n",
              "      <th>cc_num</th>\n",
              "      <th>amt</th>\n",
              "      <th>zip</th>\n",
              "      <th>lat</th>\n",
              "      <th>long</th>\n",
              "      <th>city_pop</th>\n",
              "      <th>unix_time</th>\n",
              "      <th>merch_lat</th>\n",
              "      <th>merch_long</th>\n",
              "      <th>is_fraud</th>\n",
              "    </tr>\n",
              "  </thead>\n",
              "  <tbody>\n",
              "    <tr>\n",
              "      <th>count</th>\n",
              "      <td>1.852394e+06</td>\n",
              "      <td>1.852394e+06</td>\n",
              "      <td>1.852394e+06</td>\n",
              "      <td>1.852394e+06</td>\n",
              "      <td>1.852394e+06</td>\n",
              "      <td>1.852394e+06</td>\n",
              "      <td>1.852394e+06</td>\n",
              "      <td>1.852394e+06</td>\n",
              "      <td>1.852394e+06</td>\n",
              "      <td>1.852394e+06</td>\n",
              "      <td>1.852394e+06</td>\n",
              "    </tr>\n",
              "    <tr>\n",
              "      <th>mean</th>\n",
              "      <td>5.371934e+05</td>\n",
              "      <td>4.173860e+17</td>\n",
              "      <td>7.006357e+01</td>\n",
              "      <td>4.881326e+04</td>\n",
              "      <td>3.853931e+01</td>\n",
              "      <td>-9.022783e+01</td>\n",
              "      <td>8.864367e+04</td>\n",
              "      <td>1.358674e+09</td>\n",
              "      <td>3.853898e+01</td>\n",
              "      <td>-9.022794e+01</td>\n",
              "      <td>5.210015e-03</td>\n",
              "    </tr>\n",
              "    <tr>\n",
              "      <th>std</th>\n",
              "      <td>3.669110e+05</td>\n",
              "      <td>1.309115e+18</td>\n",
              "      <td>1.592540e+02</td>\n",
              "      <td>2.688185e+04</td>\n",
              "      <td>5.071470e+00</td>\n",
              "      <td>1.374789e+01</td>\n",
              "      <td>3.014876e+05</td>\n",
              "      <td>1.819508e+07</td>\n",
              "      <td>5.105604e+00</td>\n",
              "      <td>1.375969e+01</td>\n",
              "      <td>7.199217e-02</td>\n",
              "    </tr>\n",
              "    <tr>\n",
              "      <th>min</th>\n",
              "      <td>0.000000e+00</td>\n",
              "      <td>6.041621e+10</td>\n",
              "      <td>1.000000e+00</td>\n",
              "      <td>1.257000e+03</td>\n",
              "      <td>2.002710e+01</td>\n",
              "      <td>-1.656723e+02</td>\n",
              "      <td>2.300000e+01</td>\n",
              "      <td>1.325376e+09</td>\n",
              "      <td>1.902742e+01</td>\n",
              "      <td>-1.666716e+02</td>\n",
              "      <td>0.000000e+00</td>\n",
              "    </tr>\n",
              "    <tr>\n",
              "      <th>25%</th>\n",
              "      <td>2.315490e+05</td>\n",
              "      <td>1.800429e+14</td>\n",
              "      <td>9.640000e+00</td>\n",
              "      <td>2.623700e+04</td>\n",
              "      <td>3.466890e+01</td>\n",
              "      <td>-9.679800e+01</td>\n",
              "      <td>7.410000e+02</td>\n",
              "      <td>1.343017e+09</td>\n",
              "      <td>3.474012e+01</td>\n",
              "      <td>-9.689944e+01</td>\n",
              "      <td>0.000000e+00</td>\n",
              "    </tr>\n",
              "    <tr>\n",
              "      <th>50%</th>\n",
              "      <td>4.630980e+05</td>\n",
              "      <td>3.521417e+15</td>\n",
              "      <td>4.745000e+01</td>\n",
              "      <td>4.817400e+04</td>\n",
              "      <td>3.935430e+01</td>\n",
              "      <td>-8.747690e+01</td>\n",
              "      <td>2.443000e+03</td>\n",
              "      <td>1.357089e+09</td>\n",
              "      <td>3.936890e+01</td>\n",
              "      <td>-8.744069e+01</td>\n",
              "      <td>0.000000e+00</td>\n",
              "    </tr>\n",
              "    <tr>\n",
              "      <th>75%</th>\n",
              "      <td>8.335758e+05</td>\n",
              "      <td>4.642255e+15</td>\n",
              "      <td>8.310000e+01</td>\n",
              "      <td>7.204200e+04</td>\n",
              "      <td>4.194040e+01</td>\n",
              "      <td>-8.015800e+01</td>\n",
              "      <td>2.032800e+04</td>\n",
              "      <td>1.374581e+09</td>\n",
              "      <td>4.195626e+01</td>\n",
              "      <td>-8.024511e+01</td>\n",
              "      <td>0.000000e+00</td>\n",
              "    </tr>\n",
              "    <tr>\n",
              "      <th>max</th>\n",
              "      <td>1.296674e+06</td>\n",
              "      <td>4.992346e+18</td>\n",
              "      <td>2.894890e+04</td>\n",
              "      <td>9.992100e+04</td>\n",
              "      <td>6.669330e+01</td>\n",
              "      <td>-6.795030e+01</td>\n",
              "      <td>2.906700e+06</td>\n",
              "      <td>1.388534e+09</td>\n",
              "      <td>6.751027e+01</td>\n",
              "      <td>-6.695090e+01</td>\n",
              "      <td>1.000000e+00</td>\n",
              "    </tr>\n",
              "  </tbody>\n",
              "</table>\n",
              "</div>\n",
              "    <div class=\"colab-df-buttons\">\n",
              "\n",
              "  <div class=\"colab-df-container\">\n",
              "    <button class=\"colab-df-convert\" onclick=\"convertToInteractive('df-0a2464b0-ff14-48b4-bf2e-90185c244032')\"\n",
              "            title=\"Convert this dataframe to an interactive table.\"\n",
              "            style=\"display:none;\">\n",
              "\n",
              "  <svg xmlns=\"http://www.w3.org/2000/svg\" height=\"24px\" viewBox=\"0 -960 960 960\">\n",
              "    <path d=\"M120-120v-720h720v720H120Zm60-500h600v-160H180v160Zm220 220h160v-160H400v160Zm0 220h160v-160H400v160ZM180-400h160v-160H180v160Zm440 0h160v-160H620v160ZM180-180h160v-160H180v160Zm440 0h160v-160H620v160Z\"/>\n",
              "  </svg>\n",
              "    </button>\n",
              "\n",
              "  <style>\n",
              "    .colab-df-container {\n",
              "      display:flex;\n",
              "      gap: 12px;\n",
              "    }\n",
              "\n",
              "    .colab-df-convert {\n",
              "      background-color: #E8F0FE;\n",
              "      border: none;\n",
              "      border-radius: 50%;\n",
              "      cursor: pointer;\n",
              "      display: none;\n",
              "      fill: #1967D2;\n",
              "      height: 32px;\n",
              "      padding: 0 0 0 0;\n",
              "      width: 32px;\n",
              "    }\n",
              "\n",
              "    .colab-df-convert:hover {\n",
              "      background-color: #E2EBFA;\n",
              "      box-shadow: 0px 1px 2px rgba(60, 64, 67, 0.3), 0px 1px 3px 1px rgba(60, 64, 67, 0.15);\n",
              "      fill: #174EA6;\n",
              "    }\n",
              "\n",
              "    .colab-df-buttons div {\n",
              "      margin-bottom: 4px;\n",
              "    }\n",
              "\n",
              "    [theme=dark] .colab-df-convert {\n",
              "      background-color: #3B4455;\n",
              "      fill: #D2E3FC;\n",
              "    }\n",
              "\n",
              "    [theme=dark] .colab-df-convert:hover {\n",
              "      background-color: #434B5C;\n",
              "      box-shadow: 0px 1px 3px 1px rgba(0, 0, 0, 0.15);\n",
              "      filter: drop-shadow(0px 1px 2px rgba(0, 0, 0, 0.3));\n",
              "      fill: #FFFFFF;\n",
              "    }\n",
              "  </style>\n",
              "\n",
              "    <script>\n",
              "      const buttonEl =\n",
              "        document.querySelector('#df-0a2464b0-ff14-48b4-bf2e-90185c244032 button.colab-df-convert');\n",
              "      buttonEl.style.display =\n",
              "        google.colab.kernel.accessAllowed ? 'block' : 'none';\n",
              "\n",
              "      async function convertToInteractive(key) {\n",
              "        const element = document.querySelector('#df-0a2464b0-ff14-48b4-bf2e-90185c244032');\n",
              "        const dataTable =\n",
              "          await google.colab.kernel.invokeFunction('convertToInteractive',\n",
              "                                                    [key], {});\n",
              "        if (!dataTable) return;\n",
              "\n",
              "        const docLinkHtml = 'Like what you see? Visit the ' +\n",
              "          '<a target=\"_blank\" href=https://colab.research.google.com/notebooks/data_table.ipynb>data table notebook</a>'\n",
              "          + ' to learn more about interactive tables.';\n",
              "        element.innerHTML = '';\n",
              "        dataTable['output_type'] = 'display_data';\n",
              "        await google.colab.output.renderOutput(dataTable, element);\n",
              "        const docLink = document.createElement('div');\n",
              "        docLink.innerHTML = docLinkHtml;\n",
              "        element.appendChild(docLink);\n",
              "      }\n",
              "    </script>\n",
              "  </div>\n",
              "\n",
              "\n",
              "<div id=\"df-88f81403-e9ad-4a3e-88db-204e26672509\">\n",
              "  <button class=\"colab-df-quickchart\" onclick=\"quickchart('df-88f81403-e9ad-4a3e-88db-204e26672509')\"\n",
              "            title=\"Suggest charts\"\n",
              "            style=\"display:none;\">\n",
              "\n",
              "<svg xmlns=\"http://www.w3.org/2000/svg\" height=\"24px\"viewBox=\"0 0 24 24\"\n",
              "     width=\"24px\">\n",
              "    <g>\n",
              "        <path d=\"M19 3H5c-1.1 0-2 .9-2 2v14c0 1.1.9 2 2 2h14c1.1 0 2-.9 2-2V5c0-1.1-.9-2-2-2zM9 17H7v-7h2v7zm4 0h-2V7h2v10zm4 0h-2v-4h2v4z\"/>\n",
              "    </g>\n",
              "</svg>\n",
              "  </button>\n",
              "\n",
              "<style>\n",
              "  .colab-df-quickchart {\n",
              "      --bg-color: #E8F0FE;\n",
              "      --fill-color: #1967D2;\n",
              "      --hover-bg-color: #E2EBFA;\n",
              "      --hover-fill-color: #174EA6;\n",
              "      --disabled-fill-color: #AAA;\n",
              "      --disabled-bg-color: #DDD;\n",
              "  }\n",
              "\n",
              "  [theme=dark] .colab-df-quickchart {\n",
              "      --bg-color: #3B4455;\n",
              "      --fill-color: #D2E3FC;\n",
              "      --hover-bg-color: #434B5C;\n",
              "      --hover-fill-color: #FFFFFF;\n",
              "      --disabled-bg-color: #3B4455;\n",
              "      --disabled-fill-color: #666;\n",
              "  }\n",
              "\n",
              "  .colab-df-quickchart {\n",
              "    background-color: var(--bg-color);\n",
              "    border: none;\n",
              "    border-radius: 50%;\n",
              "    cursor: pointer;\n",
              "    display: none;\n",
              "    fill: var(--fill-color);\n",
              "    height: 32px;\n",
              "    padding: 0;\n",
              "    width: 32px;\n",
              "  }\n",
              "\n",
              "  .colab-df-quickchart:hover {\n",
              "    background-color: var(--hover-bg-color);\n",
              "    box-shadow: 0 1px 2px rgba(60, 64, 67, 0.3), 0 1px 3px 1px rgba(60, 64, 67, 0.15);\n",
              "    fill: var(--button-hover-fill-color);\n",
              "  }\n",
              "\n",
              "  .colab-df-quickchart-complete:disabled,\n",
              "  .colab-df-quickchart-complete:disabled:hover {\n",
              "    background-color: var(--disabled-bg-color);\n",
              "    fill: var(--disabled-fill-color);\n",
              "    box-shadow: none;\n",
              "  }\n",
              "\n",
              "  .colab-df-spinner {\n",
              "    border: 2px solid var(--fill-color);\n",
              "    border-color: transparent;\n",
              "    border-bottom-color: var(--fill-color);\n",
              "    animation:\n",
              "      spin 1s steps(1) infinite;\n",
              "  }\n",
              "\n",
              "  @keyframes spin {\n",
              "    0% {\n",
              "      border-color: transparent;\n",
              "      border-bottom-color: var(--fill-color);\n",
              "      border-left-color: var(--fill-color);\n",
              "    }\n",
              "    20% {\n",
              "      border-color: transparent;\n",
              "      border-left-color: var(--fill-color);\n",
              "      border-top-color: var(--fill-color);\n",
              "    }\n",
              "    30% {\n",
              "      border-color: transparent;\n",
              "      border-left-color: var(--fill-color);\n",
              "      border-top-color: var(--fill-color);\n",
              "      border-right-color: var(--fill-color);\n",
              "    }\n",
              "    40% {\n",
              "      border-color: transparent;\n",
              "      border-right-color: var(--fill-color);\n",
              "      border-top-color: var(--fill-color);\n",
              "    }\n",
              "    60% {\n",
              "      border-color: transparent;\n",
              "      border-right-color: var(--fill-color);\n",
              "    }\n",
              "    80% {\n",
              "      border-color: transparent;\n",
              "      border-right-color: var(--fill-color);\n",
              "      border-bottom-color: var(--fill-color);\n",
              "    }\n",
              "    90% {\n",
              "      border-color: transparent;\n",
              "      border-bottom-color: var(--fill-color);\n",
              "    }\n",
              "  }\n",
              "</style>\n",
              "\n",
              "  <script>\n",
              "    async function quickchart(key) {\n",
              "      const quickchartButtonEl =\n",
              "        document.querySelector('#' + key + ' button');\n",
              "      quickchartButtonEl.disabled = true;  // To prevent multiple clicks.\n",
              "      quickchartButtonEl.classList.add('colab-df-spinner');\n",
              "      try {\n",
              "        const charts = await google.colab.kernel.invokeFunction(\n",
              "            'suggestCharts', [key], {});\n",
              "      } catch (error) {\n",
              "        console.error('Error during call to suggestCharts:', error);\n",
              "      }\n",
              "      quickchartButtonEl.classList.remove('colab-df-spinner');\n",
              "      quickchartButtonEl.classList.add('colab-df-quickchart-complete');\n",
              "    }\n",
              "    (() => {\n",
              "      let quickchartButtonEl =\n",
              "        document.querySelector('#df-88f81403-e9ad-4a3e-88db-204e26672509 button');\n",
              "      quickchartButtonEl.style.display =\n",
              "        google.colab.kernel.accessAllowed ? 'block' : 'none';\n",
              "    })();\n",
              "  </script>\n",
              "</div>\n",
              "\n",
              "    </div>\n",
              "  </div>\n"
            ],
            "application/vnd.google.colaboratory.intrinsic+json": {
              "type": "dataframe",
              "summary": "{\n  \"name\": \"df\",\n  \"rows\": 8,\n  \"fields\": [\n    {\n      \"column\": \"Unnamed: 0\",\n      \"properties\": {\n        \"dtype\": \"number\",\n        \"std\": 610018.0545544843,\n        \"min\": 0.0,\n        \"max\": 1852394.0,\n        \"num_unique_values\": 8,\n        \"samples\": [\n          537193.4400003455,\n          463098.0,\n          1852394.0\n        ],\n        \"semantic_type\": \"\",\n        \"description\": \"\"\n      }\n    },\n    {\n      \"column\": \"cc_num\",\n      \"properties\": {\n        \"dtype\": \"number\",\n        \"std\": 1.738417271828286e+18,\n        \"min\": 1852394.0,\n        \"max\": 4.992346398065154e+18,\n        \"num_unique_values\": 8,\n        \"samples\": [\n          4.173860383937104e+17,\n          3521417320836166.0,\n          1852394.0\n        ],\n        \"semantic_type\": \"\",\n        \"description\": \"\"\n      }\n    },\n    {\n      \"column\": \"amt\",\n      \"properties\": {\n        \"dtype\": \"number\",\n        \"std\": 653517.5088979693,\n        \"min\": 1.0,\n        \"max\": 1852394.0,\n        \"num_unique_values\": 8,\n        \"samples\": [\n          70.06356747538595,\n          47.45,\n          1852394.0\n        ],\n        \"semantic_type\": \"\",\n        \"description\": \"\"\n      }\n    },\n    {\n      \"column\": \"zip\",\n      \"properties\": {\n        \"dtype\": \"number\",\n        \"std\": 639300.2986635155,\n        \"min\": 1257.0,\n        \"max\": 1852394.0,\n        \"num_unique_values\": 8,\n        \"samples\": [\n          48813.25819075207,\n          48174.0,\n          1852394.0\n        ],\n        \"semantic_type\": \"\",\n        \"description\": \"\"\n      }\n    },\n    {\n      \"column\": \"lat\",\n      \"properties\": {\n        \"dtype\": \"number\",\n        \"std\": 654907.7398900028,\n        \"min\": 5.071470391380581,\n        \"max\": 1852394.0,\n        \"num_unique_values\": 8,\n        \"samples\": [\n          38.539310979251724,\n          39.3543,\n          1852394.0\n        ],\n        \"semantic_type\": \"\",\n        \"description\": \"\"\n      }\n    },\n    {\n      \"column\": \"long\",\n      \"properties\": {\n        \"dtype\": \"number\",\n        \"std\": 654949.1996561234,\n        \"min\": -165.6723,\n        \"max\": 1852394.0,\n        \"num_unique_values\": 8,\n        \"samples\": [\n          -90.22783229070049,\n          -87.4769,\n          1852394.0\n        ],\n        \"semantic_type\": \"\",\n        \"description\": \"\"\n      }\n    },\n    {\n      \"column\": \"city_pop\",\n      \"properties\": {\n        \"dtype\": \"number\",\n        \"std\": 1110647.142165935,\n        \"min\": 23.0,\n        \"max\": 2906700.0,\n        \"num_unique_values\": 8,\n        \"samples\": [\n          88643.67450931066,\n          2443.0,\n          1852394.0\n        ],\n        \"semantic_type\": \"\",\n        \"description\": \"\"\n      }\n    },\n    {\n      \"column\": \"unix_time\",\n      \"properties\": {\n        \"dtype\": \"number\",\n        \"std\": 624236720.6819692,\n        \"min\": 1852394.0,\n        \"max\": 1388534374.0,\n        \"num_unique_values\": 8,\n        \"samples\": [\n          1358674218.8343642,\n          1357089331.0,\n          1852394.0\n        ],\n        \"semantic_type\": \"\",\n        \"description\": \"\"\n      }\n    },\n    {\n      \"column\": \"merch_lat\",\n      \"properties\": {\n        \"dtype\": \"number\",\n        \"std\": 654907.742284222,\n        \"min\": 5.10560387759281,\n        \"max\": 1852394.0,\n        \"num_unique_values\": 8,\n        \"samples\": [\n          38.53897596705938,\n          39.368900499999995,\n          1852394.0\n        ],\n        \"semantic_type\": \"\",\n        \"description\": \"\"\n      }\n    },\n    {\n      \"column\": \"merch_long\",\n      \"properties\": {\n        \"dtype\": \"number\",\n        \"std\": 654949.2067758968,\n        \"min\": -166.671575,\n        \"max\": 1852394.0,\n        \"num_unique_values\": 8,\n        \"samples\": [\n          -90.22793950913791,\n          -87.44069350000001,\n          1852394.0\n        ],\n        \"semantic_type\": \"\",\n        \"description\": \"\"\n      }\n    },\n    {\n      \"column\": \"is_fraud\",\n      \"properties\": {\n        \"dtype\": \"number\",\n        \"std\": 654920.1250078016,\n        \"min\": 0.0,\n        \"max\": 1852394.0,\n        \"num_unique_values\": 5,\n        \"samples\": [\n          0.005210014716091717,\n          1.0,\n          0.07199217499619152\n        ],\n        \"semantic_type\": \"\",\n        \"description\": \"\"\n      }\n    }\n  ]\n}"
            }
          },
          "metadata": {},
          "execution_count": 38
        }
      ]
    },
    {
      "cell_type": "code",
      "source": [
        "df.groupby(\"is_fraud\").count()[\"cc_num\"].plot(kind = \"bar\")"
      ],
      "metadata": {
        "id": "z6eHmFOMioT_",
        "colab": {
          "base_uri": "https://localhost:8080/",
          "height": 0
        },
        "outputId": "3290f4b9-445e-4357-8710-5dfdc94bc23f"
      },
      "execution_count": 39,
      "outputs": [
        {
          "output_type": "execute_result",
          "data": {
            "text/plain": [
              "<Axes: xlabel='is_fraud'>"
            ]
          },
          "metadata": {},
          "execution_count": 39
        },
        {
          "output_type": "display_data",
          "data": {
            "text/plain": [
              "<Figure size 640x480 with 1 Axes>"
            ],
            "image/png": "[encoded data removed]"
          },
          "metadata": {}
        }
      ]
    },
    {
      "cell_type": "code",
      "source": [
        "fraud = df[df[\"is_fraud\"] == 1]\n",
        "not_fraud =  df[df[\"is_fraud\"] == 0]\n",
        "print(fraud.shape[0])\n",
        "print(not_fraud.shape[0])"
      ],
      "metadata": {
        "id": "V8ll3ZbLjBGe",
        "colab": {
          "base_uri": "https://localhost:8080/"
        },
        "outputId": "b28daa23-42e6-48f4-f3a3-fdf15db794b2"
      },
      "execution_count": 40,
      "outputs": [
        {
          "output_type": "stream",
          "name": "stdout",
          "text": [
            "9651\n",
            "1842743\n"
          ]
        }
      ]
    },
    {
      "cell_type": "code",
      "source": [
        "not_fraud = not_fraud.sample(fraud.shape[0], random_state = 42)\n",
        "df_new = pd.concat([fraud, not_fraud])"
      ],
      "metadata": {
        "id": "Z02OaNVFjbny"
      },
      "execution_count": 41,
      "outputs": []
    },
    {
      "cell_type": "code",
      "source": [
        "df_new.groupby(\"is_fraud\").count()['cc_num'].plot(kind = \"bar\")"
      ],
      "metadata": {
        "id": "i18QjZllje4H",
        "colab": {
          "base_uri": "https://localhost:8080/",
          "height": 0
        },
        "outputId": "003e3396-da27-446e-a209-17581a92fcc2"
      },
      "execution_count": 42,
      "outputs": [
        {
          "output_type": "execute_result",
          "data": {
            "text/plain": [
              "<Axes: xlabel='is_fraud'>"
            ]
          },
          "metadata": {},
          "execution_count": 42
        },
        {
          "output_type": "display_data",
          "data": {
            "text/plain": [
              "<Figure size 640x480 with 1 Axes>"
            ],
            "image/png": "[encoded data removed]"
          },
          "metadata": {}
        }
      ]
    },
    {
      "cell_type": "code",
      "source": [
        "df_new.info()"
      ],
      "metadata": {
        "id": "fAsHciR3ld2J",
        "colab": {
          "base_uri": "https://localhost:8080/"
        },
        "outputId": "5b74dff8-b94e-43ba-baf6-7bc5813a3265"
      },
      "execution_count": 43,
      "outputs": [
        {
          "output_type": "stream",
          "name": "stdout",
          "text": [
            "<class 'pandas.core.frame.DataFrame'>\n",
            "Int64Index: 19302 entries, 2449 to 135673\n",
            "Data columns (total 23 columns):\n",
            " #   Column                 Non-Null Count  Dtype  \n",
            "---  ------                 --------------  -----  \n",
            " 0   Unnamed: 0             19302 non-null  int64  \n",
            " 1   trans_date_trans_time  19302 non-null  object \n",
            " 2   cc_num                 19302 non-null  int64  \n",
            " 3   merchant               19302 non-null  object \n",
            " 4   category               19302 non-null  object \n",
            " 5   amt                    19302 non-null  float64\n",
            " 6   first                  19302 non-null  object \n",
            " 7   last                   19302 non-null  object \n",
            " 8   gender                 19302 non-null  object \n",
            " 9   street                 19302 non-null  object \n",
            " 10  city                   19302 non-null  object \n",
            " 11  state                  19302 non-null  object \n",
            " 12  zip                    19302 non-null  int64  \n",
            " 13  lat                    19302 non-null  float64\n",
            " 14  long                   19302 non-null  float64\n",
            " 15  city_pop               19302 non-null  int64  \n",
            " 16  job                    19302 non-null  object \n",
            " 17  dob                    19302 non-null  object \n",
            " 18  trans_num              19302 non-null  object \n",
            " 19  unix_time              19302 non-null  int64  \n",
            " 20  merch_lat              19302 non-null  float64\n",
            " 21  merch_long             19302 non-null  float64\n",
            " 22  is_fraud               19302 non-null  int64  \n",
            "dtypes: float64(5), int64(6), object(12)\n",
            "memory usage: 3.5+ MB\n"
          ]
        }
      ]
    },
    {
      "cell_type": "code",
      "source": [],
      "metadata": {
        "id": "Gb9vMNKnle6G"
      },
      "execution_count": 43,
      "outputs": []
    },
    {
      "cell_type": "code",
      "source": [
        "df_new = df_new[['category', 'amt', 'city', 'state', 'lat', 'long', 'city_pop', 'dob', 'is_fraud']]\n"
      ],
      "metadata": {
        "id": "Ct1Vvzmpj3lN"
      },
      "execution_count": 44,
      "outputs": []
    },
    {
      "cell_type": "code",
      "source": [
        "df_new.duplicated().sum()"
      ],
      "metadata": {
        "id": "GwOTAUczj6ff",
        "colab": {
          "base_uri": "https://localhost:8080/"
        },
        "outputId": "1d9fe41c-3e2b-4629-bc1d-90f2ebf5621f"
      },
      "execution_count": 45,
      "outputs": [
        {
          "output_type": "execute_result",
          "data": {
            "text/plain": [
              "2"
            ]
          },
          "metadata": {},
          "execution_count": 45
        }
      ]
    },
    {
      "cell_type": "code",
      "source": [
        "df_new.drop_duplicates()"
      ],
      "metadata": {
        "id": "RUUubbb_kFDP",
        "colab": {
          "base_uri": "https://localhost:8080/",
          "height": 0
        },
        "outputId": "8f1dea58-8286-4aaf-cdfc-9e61348f416e"
      },
      "execution_count": 46,
      "outputs": [
        {
          "output_type": "execute_result",
          "data": {
            "text/plain": [
              "             category     amt           city state      lat     long  \\\n",
              "2449      grocery_pos  281.06  Collettsville    NC  35.9946 -81.7266   \n",
              "2472    gas_transport   11.52    San Antonio    TX  29.4400 -98.4590   \n",
              "2523      grocery_pos  276.31    San Antonio    TX  29.4400 -98.4590   \n",
              "2546    gas_transport    7.03  Collettsville    NC  35.9946 -81.7266   \n",
              "2553      grocery_pos  275.73    San Antonio    TX  29.4400 -98.4590   \n",
              "...               ...     ...            ...   ...      ...      ...   \n",
              "99709   gas_transport   62.58   Johns Island    SC  32.8357 -79.8217   \n",
              "274694       misc_net  273.25        Belfast    NY  42.3200 -78.0943   \n",
              "807093       misc_pos    2.74      Greendale    WI  42.9373 -87.9943   \n",
              "861157   shopping_net  161.28       Westport    KY  38.4921 -85.4524   \n",
              "135673      kids_pets  163.68       Hinckley    OH  41.2419 -81.7453   \n",
              "\n",
              "        city_pop         dob  is_fraud  \n",
              "2449         885  1988-09-15         1  \n",
              "2472     1595797  1960-10-28         1  \n",
              "2523     1595797  1960-10-28         1  \n",
              "2546         885  1988-09-15         1  \n",
              "2553     1595797  1960-10-28         1  \n",
              "...          ...         ...       ...  \n",
              "99709      20478  1997-06-04         0  \n",
              "274694      1766  1962-06-04         0  \n",
              "807093     13973  1981-05-06         0  \n",
              "861157       564  1996-04-10         0  \n",
              "135673      7646  1988-09-15         0  \n",
              "\n",
              "[19300 rows x 9 columns]"
            ],
            "text/html": [
              "\n",
              "  <div id=\"df-78404a73-a6a1-4550-9d36-0068941d53a1\" class=\"colab-df-container\">\n",
              "    <div>\n",
              "<style scoped>\n",
              "    .dataframe tbody tr th:only-of-type {\n",
              "        vertical-align: middle;\n",
              "    }\n",
              "\n",
              "    .dataframe tbody tr th {\n",
              "        vertical-align: top;\n",
              "    }\n",
              "\n",
              "    .dataframe thead th {\n",
              "        text-align: right;\n",
              "    }\n",
              "</style>\n",
              "<table border=\"1\" class=\"dataframe\">\n",
              "  <thead>\n",
              "    <tr style=\"text-align: right;\">\n",
              "      <th></th>\n",
              "      <th>category</th>\n",
              "      <th>amt</th>\n",
              "      <th>city</th>\n",
              "      <th>state</th>\n",
              "      <th>lat</th>\n",
              "      <th>long</th>\n",
              "      <th>city_pop</th>\n",
              "      <th>dob</th>\n",
              "      <th>is_fraud</th>\n",
              "    </tr>\n",
              "  </thead>\n",
              "  <tbody>\n",
              "    <tr>\n",
              "      <th>2449</th>\n",
              "      <td>grocery_pos</td>\n",
              "      <td>281.06</td>\n",
              "      <td>Collettsville</td>\n",
              "      <td>NC</td>\n",
              "      <td>35.9946</td>\n",
              "      <td>-81.7266</td>\n",
              "      <td>885</td>\n",
              "      <td>1988-09-15</td>\n",
              "      <td>1</td>\n",
              "    </tr>\n",
              "    <tr>\n",
              "      <th>2472</th>\n",
              "      <td>gas_transport</td>\n",
              "      <td>11.52</td>\n",
              "      <td>San Antonio</td>\n",
              "      <td>TX</td>\n",
              "      <td>29.4400</td>\n",
              "      <td>-98.4590</td>\n",
              "      <td>1595797</td>\n",
              "      <td>1960-10-28</td>\n",
              "      <td>1</td>\n",
              "    </tr>\n",
              "    <tr>\n",
              "      <th>2523</th>\n",
              "      <td>grocery_pos</td>\n",
              "      <td>276.31</td>\n",
              "      <td>San Antonio</td>\n",
              "      <td>TX</td>\n",
              "      <td>29.4400</td>\n",
              "      <td>-98.4590</td>\n",
              "      <td>1595797</td>\n",
              "      <td>1960-10-28</td>\n",
              "      <td>1</td>\n",
              "    </tr>\n",
              "    <tr>\n",
              "      <th>2546</th>\n",
              "      <td>gas_transport</td>\n",
              "      <td>7.03</td>\n",
              "      <td>Collettsville</td>\n",
              "      <td>NC</td>\n",
              "      <td>35.9946</td>\n",
              "      <td>-81.7266</td>\n",
              "      <td>885</td>\n",
              "      <td>1988-09-15</td>\n",
              "      <td>1</td>\n",
              "    </tr>\n",
              "    <tr>\n",
              "      <th>2553</th>\n",
              "      <td>grocery_pos</td>\n",
              "      <td>275.73</td>\n",
              "      <td>San Antonio</td>\n",
              "      <td>TX</td>\n",
              "      <td>29.4400</td>\n",
              "      <td>-98.4590</td>\n",
              "      <td>1595797</td>\n",
              "      <td>1960-10-28</td>\n",
              "      <td>1</td>\n",
              "    </tr>\n",
              "    <tr>\n",
              "      <th>...</th>\n",
              "      <td>...</td>\n",
              "      <td>...</td>\n",
              "      <td>...</td>\n",
              "      <td>...</td>\n",
              "      <td>...</td>\n",
              "      <td>...</td>\n",
              "      <td>...</td>\n",
              "      <td>...</td>\n",
              "      <td>...</td>\n",
              "    </tr>\n",
              "    <tr>\n",
              "      <th>99709</th>\n",
              "      <td>gas_transport</td>\n",
              "      <td>62.58</td>\n",
              "      <td>Johns Island</td>\n",
              "      <td>SC</td>\n",
              "      <td>32.8357</td>\n",
              "      <td>-79.8217</td>\n",
              "      <td>20478</td>\n",
              "      <td>1997-06-04</td>\n",
              "      <td>0</td>\n",
              "    </tr>\n",
              "    <tr>\n",
              "      <th>274694</th>\n",
              "      <td>misc_net</td>\n",
              "      <td>273.25</td>\n",
              "      <td>Belfast</td>\n",
              "      <td>NY</td>\n",
              "      <td>42.3200</td>\n",
              "      <td>-78.0943</td>\n",
              "      <td>1766</td>\n",
              "      <td>1962-06-04</td>\n",
              "      <td>0</td>\n",
              "    </tr>\n",
              "    <tr>\n",
              "      <th>807093</th>\n",
              "      <td>misc_pos</td>\n",
              "      <td>2.74</td>\n",
              "      <td>Greendale</td>\n",
              "      <td>WI</td>\n",
              "      <td>42.9373</td>\n",
              "      <td>-87.9943</td>\n",
              "      <td>13973</td>\n",
              "      <td>1981-05-06</td>\n",
              "      <td>0</td>\n",
              "    </tr>\n",
              "    <tr>\n",
              "      <th>861157</th>\n",
              "      <td>shopping_net</td>\n",
              "      <td>161.28</td>\n",
              "      <td>Westport</td>\n",
              "      <td>KY</td>\n",
              "      <td>38.4921</td>\n",
              "      <td>-85.4524</td>\n",
              "      <td>564</td>\n",
              "      <td>1996-04-10</td>\n",
              "      <td>0</td>\n",
              "    </tr>\n",
              "    <tr>\n",
              "      <th>135673</th>\n",
              "      <td>kids_pets</td>\n",
              "      <td>163.68</td>\n",
              "      <td>Hinckley</td>\n",
              "      <td>OH</td>\n",
              "      <td>41.2419</td>\n",
              "      <td>-81.7453</td>\n",
              "      <td>7646</td>\n",
              "      <td>1988-09-15</td>\n",
              "      <td>0</td>\n",
              "    </tr>\n",
              "  </tbody>\n",
              "</table>\n",
              "<p>19300 rows × 9 columns</p>\n",
              "</div>\n",
              "    <div class=\"colab-df-buttons\">\n",
              "\n",
              "  <div class=\"colab-df-container\">\n",
              "    <button class=\"colab-df-convert\" onclick=\"convertToInteractive('df-78404a73-a6a1-4550-9d36-0068941d53a1')\"\n",
              "            title=\"Convert this dataframe to an interactive table.\"\n",
              "            style=\"display:none;\">\n",
              "\n",
              "  <svg xmlns=\"http://www.w3.org/2000/svg\" height=\"24px\" viewBox=\"0 -960 960 960\">\n",
              "    <path d=\"M120-120v-720h720v720H120Zm60-500h600v-160H180v160Zm220 220h160v-160H400v160Zm0 220h160v-160H400v160ZM180-400h160v-160H180v160Zm440 0h160v-160H620v160ZM180-180h160v-160H180v160Zm440 0h160v-160H620v160Z\"/>\n",
              "  </svg>\n",
              "    </button>\n",
              "\n",
              "  <style>\n",
              "    .colab-df-container {\n",
              "      display:flex;\n",
              "      gap: 12px;\n",
              "    }\n",
              "\n",
              "    .colab-df-convert {\n",
              "      background-color: #E8F0FE;\n",
              "      border: none;\n",
              "      border-radius: 50%;\n",
              "      cursor: pointer;\n",
              "      display: none;\n",
              "      fill: #1967D2;\n",
              "      height: 32px;\n",
              "      padding: 0 0 0 0;\n",
              "      width: 32px;\n",
              "    }\n",
              "\n",
              "    .colab-df-convert:hover {\n",
              "      background-color: #E2EBFA;\n",
              "      box-shadow: 0px 1px 2px rgba(60, 64, 67, 0.3), 0px 1px 3px 1px rgba(60, 64, 67, 0.15);\n",
              "      fill: #174EA6;\n",
              "    }\n",
              "\n",
              "    .colab-df-buttons div {\n",
              "      margin-bottom: 4px;\n",
              "    }\n",
              "\n",
              "    [theme=dark] .colab-df-convert {\n",
              "      background-color: #3B4455;\n",
              "      fill: #D2E3FC;\n",
              "    }\n",
              "\n",
              "    [theme=dark] .colab-df-convert:hover {\n",
              "      background-color: #434B5C;\n",
              "      box-shadow: 0px 1px 3px 1px rgba(0, 0, 0, 0.15);\n",
              "      filter: drop-shadow(0px 1px 2px rgba(0, 0, 0, 0.3));\n",
              "      fill: #FFFFFF;\n",
              "    }\n",
              "  </style>\n",
              "\n",
              "    <script>\n",
              "      const buttonEl =\n",
              "        document.querySelector('#df-78404a73-a6a1-4550-9d36-0068941d53a1 button.colab-df-convert');\n",
              "      buttonEl.style.display =\n",
              "        google.colab.kernel.accessAllowed ? 'block' : 'none';\n",
              "\n",
              "      async function convertToInteractive(key) {\n",
              "        const element = document.querySelector('#df-78404a73-a6a1-4550-9d36-0068941d53a1');\n",
              "        const dataTable =\n",
              "          await google.colab.kernel.invokeFunction('convertToInteractive',\n",
              "                                                    [key], {});\n",
              "        if (!dataTable) return;\n",
              "\n",
              "        const docLinkHtml = 'Like what you see? Visit the ' +\n",
              "          '<a target=\"_blank\" href=https://colab.research.google.com/notebooks/data_table.ipynb>data table notebook</a>'\n",
              "          + ' to learn more about interactive tables.';\n",
              "        element.innerHTML = '';\n",
              "        dataTable['output_type'] = 'display_data';\n",
              "        await google.colab.output.renderOutput(dataTable, element);\n",
              "        const docLink = document.createElement('div');\n",
              "        docLink.innerHTML = docLinkHtml;\n",
              "        element.appendChild(docLink);\n",
              "      }\n",
              "    </script>\n",
              "  </div>\n",
              "\n",
              "\n",
              "<div id=\"df-e35b59e6-f971-4e34-bfa6-5c37b703e27b\">\n",
              "  <button class=\"colab-df-quickchart\" onclick=\"quickchart('df-e35b59e6-f971-4e34-bfa6-5c37b703e27b')\"\n",
              "            title=\"Suggest charts\"\n",
              "            style=\"display:none;\">\n",
              "\n",
              "<svg xmlns=\"http://www.w3.org/2000/svg\" height=\"24px\"viewBox=\"0 0 24 24\"\n",
              "     width=\"24px\">\n",
              "    <g>\n",
              "        <path d=\"M19 3H5c-1.1 0-2 .9-2 2v14c0 1.1.9 2 2 2h14c1.1 0 2-.9 2-2V5c0-1.1-.9-2-2-2zM9 17H7v-7h2v7zm4 0h-2V7h2v10zm4 0h-2v-4h2v4z\"/>\n",
              "    </g>\n",
              "</svg>\n",
              "  </button>\n",
              "\n",
              "<style>\n",
              "  .colab-df-quickchart {\n",
              "      --bg-color: #E8F0FE;\n",
              "      --fill-color: #1967D2;\n",
              "      --hover-bg-color: #E2EBFA;\n",
              "      --hover-fill-color: #174EA6;\n",
              "      --disabled-fill-color: #AAA;\n",
              "      --disabled-bg-color: #DDD;\n",
              "  }\n",
              "\n",
              "  [theme=dark] .colab-df-quickchart {\n",
              "      --bg-color: #3B4455;\n",
              "      --fill-color: #D2E3FC;\n",
              "      --hover-bg-color: #434B5C;\n",
              "      --hover-fill-color: #FFFFFF;\n",
              "      --disabled-bg-color: #3B4455;\n",
              "      --disabled-fill-color: #666;\n",
              "  }\n",
              "\n",
              "  .colab-df-quickchart {\n",
              "    background-color: var(--bg-color);\n",
              "    border: none;\n",
              "    border-radius: 50%;\n",
              "    cursor: pointer;\n",
              "    display: none;\n",
              "    fill: var(--fill-color);\n",
              "    height: 32px;\n",
              "    padding: 0;\n",
              "    width: 32px;\n",
              "  }\n",
              "\n",
              "  .colab-df-quickchart:hover {\n",
              "    background-color: var(--hover-bg-color);\n",
              "    box-shadow: 0 1px 2px rgba(60, 64, 67, 0.3), 0 1px 3px 1px rgba(60, 64, 67, 0.15);\n",
              "    fill: var(--button-hover-fill-color);\n",
              "  }\n",
              "\n",
              "  .colab-df-quickchart-complete:disabled,\n",
              "  .colab-df-quickchart-complete:disabled:hover {\n",
              "    background-color: var(--disabled-bg-color);\n",
              "    fill: var(--disabled-fill-color);\n",
              "    box-shadow: none;\n",
              "  }\n",
              "\n",
              "  .colab-df-spinner {\n",
              "    border: 2px solid var(--fill-color);\n",
              "    border-color: transparent;\n",
              "    border-bottom-color: var(--fill-color);\n",
              "    animation:\n",
              "      spin 1s steps(1) infinite;\n",
              "  }\n",
              "\n",
              "  @keyframes spin {\n",
              "    0% {\n",
              "      border-color: transparent;\n",
              "      border-bottom-color: var(--fill-color);\n",
              "      border-left-color: var(--fill-color);\n",
              "    }\n",
              "    20% {\n",
              "      border-color: transparent;\n",
              "      border-left-color: var(--fill-color);\n",
              "      border-top-color: var(--fill-color);\n",
              "    }\n",
              "    30% {\n",
              "      border-color: transparent;\n",
              "      border-left-color: var(--fill-color);\n",
              "      border-top-color: var(--fill-color);\n",
              "      border-right-color: var(--fill-color);\n",
              "    }\n",
              "    40% {\n",
              "      border-color: transparent;\n",
              "      border-right-color: var(--fill-color);\n",
              "      border-top-color: var(--fill-color);\n",
              "    }\n",
              "    60% {\n",
              "      border-color: transparent;\n",
              "      border-right-color: var(--fill-color);\n",
              "    }\n",
              "    80% {\n",
              "      border-color: transparent;\n",
              "      border-right-color: var(--fill-color);\n",
              "      border-bottom-color: var(--fill-color);\n",
              "    }\n",
              "    90% {\n",
              "      border-color: transparent;\n",
              "      border-bottom-color: var(--fill-color);\n",
              "    }\n",
              "  }\n",
              "</style>\n",
              "\n",
              "  <script>\n",
              "    async function quickchart(key) {\n",
              "      const quickchartButtonEl =\n",
              "        document.querySelector('#' + key + ' button');\n",
              "      quickchartButtonEl.disabled = true;  // To prevent multiple clicks.\n",
              "      quickchartButtonEl.classList.add('colab-df-spinner');\n",
              "      try {\n",
              "        const charts = await google.colab.kernel.invokeFunction(\n",
              "            'suggestCharts', [key], {});\n",
              "      } catch (error) {\n",
              "        console.error('Error during call to suggestCharts:', error);\n",
              "      }\n",
              "      quickchartButtonEl.classList.remove('colab-df-spinner');\n",
              "      quickchartButtonEl.classList.add('colab-df-quickchart-complete');\n",
              "    }\n",
              "    (() => {\n",
              "      let quickchartButtonEl =\n",
              "        document.querySelector('#df-e35b59e6-f971-4e34-bfa6-5c37b703e27b button');\n",
              "      quickchartButtonEl.style.display =\n",
              "        google.colab.kernel.accessAllowed ? 'block' : 'none';\n",
              "    })();\n",
              "  </script>\n",
              "</div>\n",
              "\n",
              "    </div>\n",
              "  </div>\n"
            ],
            "application/vnd.google.colaboratory.intrinsic+json": {
              "type": "dataframe",
              "repr_error": "0"
            }
          },
          "metadata": {},
          "execution_count": 46
        }
      ]
    },
    {
      "cell_type": "code",
      "source": [
        "df_new.info()"
      ],
      "metadata": {
        "id": "9Sv5HvrjRA6j",
        "colab": {
          "base_uri": "https://localhost:8080/"
        },
        "outputId": "1fc5cd56-58c7-4341-80d5-a4f7cb83359f"
      },
      "execution_count": 47,
      "outputs": [
        {
          "output_type": "stream",
          "name": "stdout",
          "text": [
            "<class 'pandas.core.frame.DataFrame'>\n",
            "Int64Index: 19302 entries, 2449 to 135673\n",
            "Data columns (total 9 columns):\n",
            " #   Column    Non-Null Count  Dtype  \n",
            "---  ------    --------------  -----  \n",
            " 0   category  19302 non-null  object \n",
            " 1   amt       19302 non-null  float64\n",
            " 2   city      19302 non-null  object \n",
            " 3   state     19302 non-null  object \n",
            " 4   lat       19302 non-null  float64\n",
            " 5   long      19302 non-null  float64\n",
            " 6   city_pop  19302 non-null  int64  \n",
            " 7   dob       19302 non-null  object \n",
            " 8   is_fraud  19302 non-null  int64  \n",
            "dtypes: float64(3), int64(2), object(4)\n",
            "memory usage: 1.5+ MB\n"
          ]
        }
      ]
    },
    {
      "cell_type": "code",
      "source": [
        "\n",
        "# Selección de características relevantes\n",
        "features = ['amt', 'city_pop', 'merch_lat', 'merch_long', 'is_fraud']\n",
        "train_data = train_csv[features]\n",
        "test_data = test_csv[features]"
      ],
      "metadata": {
        "id": "y9pFZRQXQq9C"
      },
      "execution_count": 48,
      "outputs": []
    },
    {
      "cell_type": "code",
      "source": [
        "numeric_columns = [i for i in df_new.columns if df_new[i].dtype == 'int64' or df_new[i].dtype =='int32' or df_new[i].dtype =='float64']\n",
        "categorical_columns = [i for i in df_new.columns if df_new[i].dtype == 'object']"
      ],
      "metadata": {
        "id": "3V7PoiF8mzBZ"
      },
      "execution_count": 49,
      "outputs": []
    },
    {
      "cell_type": "code",
      "source": [
        "print(numeric_columns)\n",
        "print(categorical_columns)"
      ],
      "metadata": {
        "id": "NLxejFp0m0ah",
        "colab": {
          "base_uri": "https://localhost:8080/"
        },
        "outputId": "bb8da563-ebfa-4014-beef-4db42e724d4f"
      },
      "execution_count": 50,
      "outputs": [
        {
          "output_type": "stream",
          "name": "stdout",
          "text": [
            "['amt', 'lat', 'long', 'city_pop', 'is_fraud']\n",
            "['category', 'city', 'state', 'dob']\n"
          ]
        }
      ]
    },
    {
      "cell_type": "markdown",
      "source": [
        "# ***Models of machine learning***"
      ],
      "metadata": {
        "id": "tcOJ-IZJSOEq"
      }
    },
    {
      "cell_type": "code",
      "source": [
        "from sklearn.model_selection import train_test_split, cross_val_score\n",
        "from sklearn.metrics import accuracy_score, precision_score, recall_score, f1_score\n",
        "from sklearn.linear_model import LogisticRegression\n",
        "from sklearn.tree import DecisionTreeClassifier\n",
        "from sklearn.ensemble import RandomForestClassifier, GradientBoostingClassifier, AdaBoostClassifier\n",
        "from xgboost import XGBClassifier\n",
        "\n",
        "\n",
        "\n",
        "X = df_new.drop('is_fraud', axis=1)\n",
        "y = df_new['is_fraud']"
      ],
      "metadata": {
        "id": "pRqLVFcbRuiL"
      },
      "execution_count": 51,
      "outputs": []
    },
    {
      "cell_type": "code",
      "source": [
        "# Use pandas to encode categorical variables into dummy variables (one-hot encoding)\n",
        "X_encoded = pd.get_dummies(X, columns=['category', 'city', 'state', 'dob'])\n",
        "\n",
        "# Split the encoded data into training and test sets\n",
        "X_train_encoded, X_test_encoded, y_train, y_test = train_test_split(X_encoded, y, test_size=0.2, random_state=42)\n"
      ],
      "metadata": {
        "id": "tBFlNrSJptjj"
      },
      "execution_count": 52,
      "outputs": []
    },
    {
      "cell_type": "code",
      "source": [
        "from sklearn.preprocessing import OrdinalEncoder\n",
        "\n",
        "# Create an ordinal encoder and fit it to the relevant columns\n",
        "ordinal_encoder = OrdinalEncoder()\n",
        "X_encoded[['category', 'city', 'state', 'dob']] = ordinal_encoder.fit_transform(X[['category', 'city', 'state', 'dob']])\n",
        "\n",
        "# split the encoded data into training and test sets\n",
        "X_train_encoded, X_test_encoded, y_train, y_test = train_test_split(X_encoded, y, test_size=0.2, random_state=42)\n"
      ],
      "metadata": {
        "id": "-5ylcywWpzRO"
      },
      "execution_count": 53,
      "outputs": []
    },
    {
      "cell_type": "code",
      "source": [
        "X_train, X_test, y_train, y_test = train_test_split(X, y, test_size=0.2, random_state=42)"
      ],
      "metadata": {
        "id": "2RliU67wST0Y"
      },
      "execution_count": 54,
      "outputs": []
    },
    {
      "cell_type": "code",
      "source": [
        "# Initialize the models\n",
        "models = {\n",
        "    'Logistic Regression': LogisticRegression(),\n",
        "    'Decision Tree': DecisionTreeClassifier(),\n",
        "    'Random Forest': RandomForestClassifier(),\n",
        "    'Gradient Boosting': GradientBoostingClassifier(),\n",
        "    'XGBoost': XGBClassifier(use_label_encoder=False, eval_metric='logloss'),\n",
        "\n",
        "}"
      ],
      "metadata": {
        "id": "k7qChcBKoQ0J"
      },
      "execution_count": 55,
      "outputs": []
    },
    {
      "cell_type": "code",
      "source": [
        "# Function to evaluate models\n",
        "def evaluate_model(model, X_train, y_train, X_test, y_test):\n",
        "    model.fit(X_train, y_train)\n",
        "    y_pred = model.predict(X_test)\n",
        "    accuracy = accuracy_score(y_test, y_pred)\n",
        "    precision = precision_score(y_test, y_pred)\n",
        "    recall = recall_score(y_test, y_pred)\n",
        "    f1 = f1_score(y_test, y_pred)\n",
        "    return accuracy, precision, recall, f1"
      ],
      "metadata": {
        "id": "T_-B73yQpRFE"
      },
      "execution_count": 56,
      "outputs": []
    },
    {
      "cell_type": "code",
      "source": [
        "# Iterate over the models and evaluate each one\n",
        "for name, model in models.items():\n",
        "    model.fit(X_train_encoded, y_train)\n",
        "    y_pred = model.predict(X_test_encoded)\n",
        "\n",
        "    accuracy = accuracy_score(y_test, y_pred)\n",
        "    precision = precision_score(y_test, y_pred)\n",
        "    recall = recall_score(y_test, y_pred)\n",
        "    f1 = f1_score(y_test, y_pred)\n",
        "\n",
        "    print(f\"Model: {name}\")\n",
        "    print(f\"Accuracy: {accuracy:.4f}, Precision: {precision:.4f}, Recall: {recall:.4f}, F1-score: {f1:.4f}\")\n",
        "    print(\"---\")\n"
      ],
      "metadata": {
        "id": "2sgYmLxzpYwd",
        "colab": {
          "base_uri": "https://localhost:8080/"
        },
        "outputId": "1069d536-028a-44e1-f4be-5bc951059bda"
      },
      "execution_count": 57,
      "outputs": [
        {
          "output_type": "stream",
          "name": "stdout",
          "text": [
            "Model: Logistic Regression\n",
            "Accuracy: 0.8550, Precision: 0.9430, Recall: 0.7553, F1-score: 0.8388\n",
            "---\n",
            "Model: Decision Tree\n",
            "Accuracy: 0.9588, Precision: 0.9548, Recall: 0.9632, F1-score: 0.9590\n",
            "---\n",
            "Model: Random Forest\n",
            "Accuracy: 0.9371, Precision: 0.9602, Recall: 0.9119, F1-score: 0.9354\n",
            "---\n",
            "Model: Gradient Boosting\n",
            "Accuracy: 0.9510, Precision: 0.9536, Recall: 0.9482, F1-score: 0.9509\n",
            "---\n",
            "Model: XGBoost\n",
            "Accuracy: 0.9601, Precision: 0.9521, Recall: 0.9689, F1-score: 0.9604\n",
            "---\n"
          ]
        }
      ]
    }
  ]
}